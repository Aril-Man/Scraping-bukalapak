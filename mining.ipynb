{
 "cells": [
  {
   "cell_type": "code",
   "execution_count": 1,
   "metadata": {},
   "outputs": [],
   "source": [
    "import pandas as pd"
   ]
  },
  {
   "cell_type": "code",
   "execution_count": 2,
   "metadata": {},
   "outputs": [
    {
     "data": {
      "text/html": [
       "<div>\n",
       "<style scoped>\n",
       "    .dataframe tbody tr th:only-of-type {\n",
       "        vertical-align: middle;\n",
       "    }\n",
       "\n",
       "    .dataframe tbody tr th {\n",
       "        vertical-align: top;\n",
       "    }\n",
       "\n",
       "    .dataframe thead th {\n",
       "        text-align: right;\n",
       "    }\n",
       "</style>\n",
       "<table border=\"1\" class=\"dataframe\">\n",
       "  <thead>\n",
       "    <tr style=\"text-align: right;\">\n",
       "      <th></th>\n",
       "      <th>Name</th>\n",
       "      <th>Price</th>\n",
       "      <th>Kondisi</th>\n",
       "      <th>Stok</th>\n",
       "    </tr>\n",
       "    <tr>\n",
       "      <th>No</th>\n",
       "      <th></th>\n",
       "      <th></th>\n",
       "      <th></th>\n",
       "      <th></th>\n",
       "    </tr>\n",
       "  </thead>\n",
       "  <tbody>\n",
       "    <tr>\n",
       "      <th>1</th>\n",
       "      <td>Sandal Gunung Outdoor Antarestar Sandal Trevel...</td>\n",
       "      <td>72000</td>\n",
       "      <td>Baru</td>\n",
       "      <td>98</td>\n",
       "    </tr>\n",
       "    <tr>\n",
       "      <th>2</th>\n",
       "      <td>Sandal Gunung NB Pria Casual / Sandal newbalan...</td>\n",
       "      <td>199000</td>\n",
       "      <td>Baru</td>\n",
       "      <td>50</td>\n",
       "    </tr>\n",
       "    <tr>\n",
       "      <th>3</th>\n",
       "      <td>Sandal Gunung Hijack - Sandal Pria Gunung - Sa...</td>\n",
       "      <td>155000</td>\n",
       "      <td>Baru</td>\n",
       "      <td>50</td>\n",
       "    </tr>\n",
       "    <tr>\n",
       "      <th>4</th>\n",
       "      <td>Sandal Gunung Wanita Import Fashion Original</td>\n",
       "      <td>159000</td>\n",
       "      <td>Baru</td>\n",
       "      <td>100</td>\n",
       "    </tr>\n",
       "    <tr>\n",
       "      <th>5</th>\n",
       "      <td>Consina Sunburn Sandal Gunung Travelling</td>\n",
       "      <td>125000</td>\n",
       "      <td>Baru</td>\n",
       "      <td>10</td>\n",
       "    </tr>\n",
       "    <tr>\n",
       "      <th>6</th>\n",
       "      <td>SANDAL GUNUNG TRIGLAV PREMIUM ASLI ORIGINAL SA...</td>\n",
       "      <td>94999</td>\n",
       "      <td>Baru</td>\n",
       "      <td>94</td>\n",
       "    </tr>\n",
       "    <tr>\n",
       "      <th>7</th>\n",
       "      <td>Sandal Gunung Outdoor Pro Original - Sandal Hi...</td>\n",
       "      <td>179900</td>\n",
       "      <td>Baru</td>\n",
       "      <td>48</td>\n",
       "    </tr>\n",
       "    <tr>\n",
       "      <th>8</th>\n",
       "      <td>Sendal jepit gunung Sayka</td>\n",
       "      <td>30000</td>\n",
       "      <td>Baru</td>\n",
       "      <td>481</td>\n",
       "    </tr>\n",
       "    <tr>\n",
       "      <th>9</th>\n",
       "      <td>Sandal Gunung Wanita Pria Sendal Gunung Tali C...</td>\n",
       "      <td>65000</td>\n",
       "      <td>Baru</td>\n",
       "      <td>914</td>\n",
       "    </tr>\n",
       "    <tr>\n",
       "      <th>10</th>\n",
       "      <td>Sandal Gunung Selop Pria Casual - Selop PL 01 CK</td>\n",
       "      <td>99000</td>\n",
       "      <td>Baru</td>\n",
       "      <td>1997</td>\n",
       "    </tr>\n",
       "    <tr>\n",
       "      <th>11</th>\n",
       "      <td>Sandal Gunung Pria 39-43 Nevis Nvs 17 Original...</td>\n",
       "      <td>119000</td>\n",
       "      <td>Baru</td>\n",
       "      <td>84</td>\n",
       "    </tr>\n",
       "    <tr>\n",
       "      <th>12</th>\n",
       "      <td>Sandal Gunung Anak Carvil Superior GT-300</td>\n",
       "      <td>105000</td>\n",
       "      <td>Baru</td>\n",
       "      <td>9</td>\n",
       "    </tr>\n",
       "    <tr>\n",
       "      <th>13</th>\n",
       "      <td>Sepatu Sandal Tali Fashion Wanita Sandal Gunun...</td>\n",
       "      <td>62900</td>\n",
       "      <td>Baru</td>\n",
       "      <td>944</td>\n",
       "    </tr>\n",
       "    <tr>\n",
       "      <th>14</th>\n",
       "      <td>grosir sandal gunung erger</td>\n",
       "      <td>24000</td>\n",
       "      <td>Baru</td>\n",
       "      <td>100</td>\n",
       "    </tr>\n",
       "    <tr>\n",
       "      <th>15</th>\n",
       "      <td>Sepatu Sandal Gunung Anak Cowok Laki Lelaki Pe...</td>\n",
       "      <td>35900</td>\n",
       "      <td>Baru</td>\n",
       "      <td>97</td>\n",
       "    </tr>\n",
       "    <tr>\n",
       "      <th>16</th>\n",
       "      <td>TERMURAH TERLARIS Sandal jepit Pria Sendal Gun...</td>\n",
       "      <td>65000</td>\n",
       "      <td>Baru</td>\n",
       "      <td>6218</td>\n",
       "    </tr>\n",
       "    <tr>\n",
       "      <th>17</th>\n",
       "      <td>SANDAL GUNUNG JUMBO SENDAL TALI BIG SIZE OUTDO...</td>\n",
       "      <td>66550</td>\n",
       "      <td>Baru</td>\n",
       "      <td>100</td>\n",
       "    </tr>\n",
       "    <tr>\n",
       "      <th>18</th>\n",
       "      <td>Sandal Gunung Hiking Model Jepit</td>\n",
       "      <td>13000</td>\n",
       "      <td>Baru</td>\n",
       "      <td>1000</td>\n",
       "    </tr>\n",
       "    <tr>\n",
       "      <th>19</th>\n",
       "      <td>Consina Trawangan Sandal Gunung Pria</td>\n",
       "      <td>275000</td>\n",
       "      <td>Baru</td>\n",
       "      <td>4</td>\n",
       "    </tr>\n",
       "    <tr>\n",
       "      <th>20</th>\n",
       "      <td>Consina Kanawa Sandal Gunung Pria</td>\n",
       "      <td>175000</td>\n",
       "      <td>Baru</td>\n",
       "      <td>6</td>\n",
       "    </tr>\n",
       "  </tbody>\n",
       "</table>\n",
       "</div>"
      ],
      "text/plain": [
       "                                                 Name   Price Kondisi  Stok\n",
       "No                                                                         \n",
       "1   Sandal Gunung Outdoor Antarestar Sandal Trevel...   72000    Baru    98\n",
       "2   Sandal Gunung NB Pria Casual / Sandal newbalan...  199000    Baru    50\n",
       "3   Sandal Gunung Hijack - Sandal Pria Gunung - Sa...  155000    Baru    50\n",
       "4        Sandal Gunung Wanita Import Fashion Original  159000    Baru   100\n",
       "5            Consina Sunburn Sandal Gunung Travelling  125000    Baru    10\n",
       "6   SANDAL GUNUNG TRIGLAV PREMIUM ASLI ORIGINAL SA...   94999    Baru    94\n",
       "7   Sandal Gunung Outdoor Pro Original - Sandal Hi...  179900    Baru    48\n",
       "8                           Sendal jepit gunung Sayka   30000    Baru   481\n",
       "9   Sandal Gunung Wanita Pria Sendal Gunung Tali C...   65000    Baru   914\n",
       "10   Sandal Gunung Selop Pria Casual - Selop PL 01 CK   99000    Baru  1997\n",
       "11  Sandal Gunung Pria 39-43 Nevis Nvs 17 Original...  119000    Baru    84\n",
       "12          Sandal Gunung Anak Carvil Superior GT-300  105000    Baru     9\n",
       "13  Sepatu Sandal Tali Fashion Wanita Sandal Gunun...   62900    Baru   944\n",
       "14                         grosir sandal gunung erger   24000    Baru   100\n",
       "15  Sepatu Sandal Gunung Anak Cowok Laki Lelaki Pe...   35900    Baru    97\n",
       "16  TERMURAH TERLARIS Sandal jepit Pria Sendal Gun...   65000    Baru  6218\n",
       "17  SANDAL GUNUNG JUMBO SENDAL TALI BIG SIZE OUTDO...   66550    Baru   100\n",
       "18                   Sandal Gunung Hiking Model Jepit   13000    Baru  1000\n",
       "19               Consina Trawangan Sandal Gunung Pria  275000    Baru     4\n",
       "20                  Consina Kanawa Sandal Gunung Pria  175000    Baru     6"
      ]
     },
     "execution_count": 2,
     "metadata": {},
     "output_type": "execute_result"
    }
   ],
   "source": [
    "dataset = pd.read_csv('hasil_scraping_bukalapak/hasil_scraping_Sendal gunung .csv', index_col=0)\n",
    "\n",
    "dataset.head(20)"
   ]
  },
  {
   "cell_type": "code",
   "execution_count": 3,
   "metadata": {},
   "outputs": [
    {
     "data": {
      "text/plain": [
       "Name       object\n",
       "Price       int64\n",
       "Kondisi    object\n",
       "Stok        int64\n",
       "dtype: object"
      ]
     },
     "execution_count": 3,
     "metadata": {},
     "output_type": "execute_result"
    }
   ],
   "source": [
    "dataset.dtypes"
   ]
  },
  {
   "cell_type": "code",
   "execution_count": 4,
   "metadata": {},
   "outputs": [
    {
     "data": {
      "text/html": [
       "<div>\n",
       "<style scoped>\n",
       "    .dataframe tbody tr th:only-of-type {\n",
       "        vertical-align: middle;\n",
       "    }\n",
       "\n",
       "    .dataframe tbody tr th {\n",
       "        vertical-align: top;\n",
       "    }\n",
       "\n",
       "    .dataframe thead th {\n",
       "        text-align: right;\n",
       "    }\n",
       "</style>\n",
       "<table border=\"1\" class=\"dataframe\">\n",
       "  <thead>\n",
       "    <tr style=\"text-align: right;\">\n",
       "      <th></th>\n",
       "      <th>Price</th>\n",
       "      <th>Stok</th>\n",
       "    </tr>\n",
       "  </thead>\n",
       "  <tbody>\n",
       "    <tr>\n",
       "      <th>count</th>\n",
       "      <td>1274.000000</td>\n",
       "      <td>1274.000000</td>\n",
       "    </tr>\n",
       "    <tr>\n",
       "      <th>mean</th>\n",
       "      <td>141609.941130</td>\n",
       "      <td>5783.024333</td>\n",
       "    </tr>\n",
       "    <tr>\n",
       "      <th>std</th>\n",
       "      <td>71650.242316</td>\n",
       "      <td>73987.644138</td>\n",
       "    </tr>\n",
       "    <tr>\n",
       "      <th>min</th>\n",
       "      <td>13000.000000</td>\n",
       "      <td>1.000000</td>\n",
       "    </tr>\n",
       "    <tr>\n",
       "      <th>25%</th>\n",
       "      <td>99900.000000</td>\n",
       "      <td>9.000000</td>\n",
       "    </tr>\n",
       "    <tr>\n",
       "      <th>50%</th>\n",
       "      <td>129825.000000</td>\n",
       "      <td>20.000000</td>\n",
       "    </tr>\n",
       "    <tr>\n",
       "      <th>75%</th>\n",
       "      <td>169750.000000</td>\n",
       "      <td>99.000000</td>\n",
       "    </tr>\n",
       "    <tr>\n",
       "      <th>max</th>\n",
       "      <td>699000.000000</td>\n",
       "      <td>999999.000000</td>\n",
       "    </tr>\n",
       "  </tbody>\n",
       "</table>\n",
       "</div>"
      ],
      "text/plain": [
       "               Price           Stok\n",
       "count    1274.000000    1274.000000\n",
       "mean   141609.941130    5783.024333\n",
       "std     71650.242316   73987.644138\n",
       "min     13000.000000       1.000000\n",
       "25%     99900.000000       9.000000\n",
       "50%    129825.000000      20.000000\n",
       "75%    169750.000000      99.000000\n",
       "max    699000.000000  999999.000000"
      ]
     },
     "execution_count": 4,
     "metadata": {},
     "output_type": "execute_result"
    }
   ],
   "source": [
    "dataset.describe()"
   ]
  },
  {
   "cell_type": "code",
   "execution_count": 5,
   "metadata": {},
   "outputs": [
    {
     "data": {
      "text/plain": [
       "Name       skills sandal gunung pria mode japit original ...\n",
       "Price                                                 699000\n",
       "Kondisi                                                 Baru\n",
       "Stok                                                  999999\n",
       "dtype: object"
      ]
     },
     "execution_count": 5,
     "metadata": {},
     "output_type": "execute_result"
    }
   ],
   "source": [
    "dataset.max()"
   ]
  },
  {
   "cell_type": "code",
   "execution_count": 6,
   "metadata": {},
   "outputs": [
    {
     "data": {
      "text/plain": [
       "Name       (Kiddiwear) Sandal  gunung anak / Sandal Ringa...\n",
       "Price                                                  13000\n",
       "Kondisi                                                 Baru\n",
       "Stok                                                       1\n",
       "dtype: object"
      ]
     },
     "execution_count": 6,
     "metadata": {},
     "output_type": "execute_result"
    }
   ],
   "source": [
    "dataset.min()"
   ]
  },
  {
   "cell_type": "code",
   "execution_count": 7,
   "metadata": {},
   "outputs": [
    {
     "data": {
      "text/plain": [
       "Name       0\n",
       "Price      0\n",
       "Kondisi    0\n",
       "Stok       0\n",
       "dtype: int64"
      ]
     },
     "execution_count": 7,
     "metadata": {},
     "output_type": "execute_result"
    }
   ],
   "source": [
    "total = dataset.isnull().sum().sort_values(ascending=False)\n",
    "\n",
    "total"
   ]
  },
  {
   "cell_type": "code",
   "execution_count": null,
   "metadata": {},
   "outputs": [],
   "source": []
  }
 ],
 "metadata": {
  "kernelspec": {
   "display_name": "Python 3.10.4 64-bit",
   "language": "python",
   "name": "python3"
  },
  "language_info": {
   "codemirror_mode": {
    "name": "ipython",
    "version": 3
   },
   "file_extension": ".py",
   "mimetype": "text/x-python",
   "name": "python",
   "nbconvert_exporter": "python",
   "pygments_lexer": "ipython3",
   "version": "3.10.4"
  },
  "orig_nbformat": 4,
  "vscode": {
   "interpreter": {
    "hash": "5685a135e92ac552e415bbf2c469fb5f0510d4bb231ecd69865a8486da96369f"
   }
  }
 },
 "nbformat": 4,
 "nbformat_minor": 2
}
